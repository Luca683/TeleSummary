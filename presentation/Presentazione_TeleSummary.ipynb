{
 "cells": [
  {
   "cell_type": "markdown",
   "metadata": {
    "slideshow": {
     "slide_type": "slide"
    }
   },
   "source": [
    "# TeleSummary\n",
    "\n",
    "![](images/telegram-bot.png)"
   ]
  },
  {
   "cell_type": "markdown",
   "metadata": {
    "slideshow": {
     "slide_type": "slide"
    }
   },
   "source": [
    "## Introduzione"
   ]
  },
  {
   "cell_type": "markdown",
   "metadata": {
    "slideshow": {
     "slide_type": "fragment"
    }
   },
   "source": [
    "TeleSummary è un bot Telegram che riassume tutti i messaggi inviati dai vari utenti all'interno di un gruppo."
   ]
  },
  {
   "cell_type": "markdown",
   "metadata": {
    "slideshow": {
     "slide_type": "fragment"
    }
   },
   "source": [
    "## Problema"
   ]
  },
  {
   "cell_type": "markdown",
   "metadata": {
    "slideshow": {
     "slide_type": "fragment"
    }
   },
   "source": [
    "Le grandi organizzazioni spesso si affidano a team distribuiti, ognuno dei quali utilizza sistemi di messaggistica per collaborare."
   ]
  },
  {
   "cell_type": "markdown",
   "metadata": {
    "slideshow": {
     "slide_type": "fragment"
    }
   },
   "source": [
    "Con il flusso continuo di messaggi, è difficile per i membri del team rimanere aggiornati senza dover leggere ogni singolo messaggio."
   ]
  },
  {
   "cell_type": "markdown",
   "metadata": {
    "slideshow": {
     "slide_type": "fragment"
    }
   },
   "source": [
    "Un sistema di riassunto automatico delle conversazioni, come TeleSummary, permette di ottenere una panoramica rapida delle discussioni."
   ]
  },
  {
   "cell_type": "markdown",
   "metadata": {
    "slideshow": {
     "slide_type": "slide"
    }
   },
   "source": [
    "## Vantaggi"
   ]
  },
  {
   "cell_type": "markdown",
   "metadata": {
    "slideshow": {
     "slide_type": "fragment"
    }
   },
   "source": [
    "- I membri del team possono concentrarsi sugli argomenti più rilevanti."
   ]
  },
  {
   "cell_type": "markdown",
   "metadata": {
    "slideshow": {
     "slide_type": "fragment"
    }
   },
   "source": [
    "- I manager possono monitorare le discussioni e prendere decisioni in merito ad esse più rapidamente."
   ]
  },
  {
   "cell_type": "markdown",
   "metadata": {},
   "source": [
    "![](images/meme-boy.jpg)"
   ]
  },
  {
   "cell_type": "markdown",
   "metadata": {
    "slideshow": {
     "slide_type": "slide"
    }
   },
   "source": [
    "## Pipeline"
   ]
  },
  {
   "cell_type": "markdown",
   "metadata": {
    "slideshow": {
     "slide_type": "fragment"
    }
   },
   "source": [
    "![](images/pipeline.png)"
   ]
  },
  {
   "cell_type": "markdown",
   "metadata": {
    "slideshow": {
     "slide_type": "slide"
    }
   },
   "source": [
    "<div style=\"display: flex; justify-content: space-between; align-items: center;\">\n",
    "    <h2>Data source: python-telegram-bot</h2>\n",
    "    <img src=\"images/telegram-logo.png\" width=\"10%\" height=\"10%\" style=\"margin-left: auto;\"></img>\n",
    "</div>"
   ]
  },
  {
   "cell_type": "markdown",
   "metadata": {
    "slideshow": {
     "slide_type": "fragment"
    }
   },
   "source": [
    "Libreria python per la gestione dei bot su Telegram."
   ]
  },
  {
   "cell_type": "markdown",
   "metadata": {
    "slideshow": {
     "slide_type": "fragment"
    }
   },
   "source": [
    "Il bot TeleSummary viene inserito all'interno di 1 o più gruppi e grazie alle varie funzioni fornite dalla libreria è in grado di prelevare i vari messaggi insieme ad altre informazioni (timestamp, id_chat, id_sender ecc...)"
   ]
  },
  {
   "cell_type": "markdown",
   "metadata": {
    "slideshow": {
     "slide_type": "slide"
    }
   },
   "source": [
    "<div style=\"display: flex; justify-content: space-between; align-items: center;\">\n",
    "    <h2>Data ingestion: Fluentd</h2>\n",
    "    <img src=\"images/fluentd-logo.png\" width=\"10%\" height=\"10%\" style=\"margin-left: auto;\"></img>\n",
    "</div>"
   ]
  },
  {
   "cell_type": "markdown",
   "metadata": {},
   "source": [
    "<div style=\"display: flex; justify-content: space-between; align-items: center;\">\n",
    "    <p>Fluentd è un software open-source di raccolta, elaborazione e trasporto di log. È progettato per unificare il flusso di dati tra diversi sistemi, applicazioni e servizi, permettendo di raccogliere log da varie fonti, trasformarli e inoltrarli verso diverse destinazioni, come database, servizi cloud o motori di ricerca <br/><br/>\n",
    "    Tra i principali vantaggi sicuramente la facilità di configurazione e il fatto di essere più efficiente rispetto ad altri strumenti di data ingestion.\n",
    "    </p>\n",
    "    <img src=\"images/meme-data-ingestion.jpg\" width=\"40%\" height=\"10%\" style=\"margin-left: auto;\"></img>\n",
    "</div>"
   ]
  },
  {
   "cell_type": "markdown",
   "metadata": {
    "slideshow": {
     "slide_type": "slide"
    }
   },
   "source": [
    "<div style=\"display: flex; justify-content: space-between; align-items: center;\">\n",
    "    <h2>Data streaming: Kafka</h2>\n",
    "    <img src=\"images/kafka-logo.png\" width=\"10%\" height=\"10%\" style=\"margin-left: auto;\"></img>\n",
    "</div>"
   ]
  },
  {
   "cell_type": "markdown",
   "metadata": {
    "slideshow": {
     "slide_type": "fragment"
    }
   },
   "source": [
    "Piattaforma utilizzata per effettuare lo streaming di grandi quantità di dati in tempo reale con elevatà scalabilità e resilienza."
   ]
  },
  {
   "cell_type": "markdown",
   "metadata": {
    "slideshow": {
     "slide_type": "fragment"
    }
   },
   "source": [
    "I messaggi (insieme alle altre informazioni raccolte) vengono inoltrati da fluentd verso un topic di kafka."
   ]
  },
  {
   "cell_type": "markdown",
   "metadata": {
    "slideshow": {
     "slide_type": "fragment"
    }
   },
   "source": [
    "<div style=\"display: flex; justify-content: space-between; align-items: center;\">\n",
    "    <h2>Centralized service: Zookeeper</h2>\n",
    "    <img src=\"images/zookeeper-logo.png\" width=\"10%\" height=\"10%\" style=\"margin-left: auto;\"></img>\n",
    "</div>"
   ]
  },
  {
   "cell_type": "markdown",
   "metadata": {
    "slideshow": {
     "slide_type": "fragment"
    }
   },
   "source": [
    "ZooKeeper è un servizio centralizzato per la gestione della configurazione, sincronizzazione distribuita e coordinamento dei nodi in sistemi distribuiti. Nel nostro caso quindi è utilizzato per gestire i broker e i topic di kafka."
   ]
  },
  {
   "cell_type": "markdown",
   "metadata": {
    "slideshow": {
     "slide_type": "slide"
    }
   },
   "source": [
    "<div style=\"display: flex; justify-content: space-between; align-items: center;\">\n",
    "    <h2>Data processing: Apache Spark</h2>\n",
    "    <img src=\"images/spark-logo.png\" width=\"10%\" height=\"10%\" style=\"margin-left: auto;\"></img>\n",
    "</div>"
   ]
  },
  {
   "cell_type": "markdown",
   "metadata": {
    "slideshow": {
     "slide_type": "fragment"
    }
   },
   "source": [
    "Spark è la tecnologia che ci permetterà di arricchire i nostri dati, nel nostro caso è previsto il prelievo dei messaggi dal topic di kafka con conseguente costruzione di un dataframe a cui verrà aggiunta una colonna che conterrà il riassunto del messaggio prelevato."
   ]
  },
  {
   "cell_type": "markdown",
   "metadata": {
    "slideshow": {
     "slide_type": "fragment"
    }
   },
   "source": [
    "Per leggere il flusso di dati da kafka viene usata la libreria Spark Structured Streaming."
   ]
  },
  {
   "cell_type": "markdown",
   "metadata": {
    "slideshow": {
     "slide_type": "fragment"
    }
   },
   "source": [
    " <div style=\"display: flex; justify-content: space-between; align-items: center;\">\n",
    "    <p>È stato utilizzato il modello pre-addestrato <b>T5 small</b> di Hugging Face per generare i riassunti automatici dei messaggi. Integrandolo con Apache Spark, il modello elabora i messaggi in tempo reale, sintetizzando il contenuto per aiutare i team a concentrarsi sugli argomenti più rilevanti. Questa soluzione offre un modo efficiente e scalabile per gestire grandi volumi di dati di chat.</p>\n",
    "    <img src=\"images/meme-t5small.jpg\" width=\"30%\" height=\"10%\" style=\"margin-left: auto;\"></img>\n",
    "</div>"
   ]
  },
  {
   "cell_type": "markdown",
   "metadata": {
    "slideshow": {
     "slide_type": "subslide"
    }
   },
   "source": [
    "## Gli altri modelli...\n",
    "![](images/EOFException_spark.png)"
   ]
  },
  {
   "cell_type": "markdown",
   "metadata": {
    "slideshow": {
     "slide_type": "slide"
    }
   },
   "source": [
    "<div style=\"display: flex; justify-content: space-between; align-items: center;\">\n",
    "    <h2>Data indexing: Elasticsearch</h2>\n",
    "    <img src=\"images/elasticsearch-logo.png\" width=\"10%\" height=\"10%\" style=\"margin-left: auto;\"></img>\n",
    "</div>"
   ]
  },
  {
   "cell_type": "markdown",
   "metadata": {},
   "source": [
    " <div style=\"display: flex; justify-content: space-between; align-items: center;\">\n",
    "    <p>Elasticsearch è un motore di ricerca e analisi distribuito e open-source, progettato per gestire grandi volumi di dati in tempo reale. È particolarmente adatto per l'indicizzazione, la ricerca e l'analisi di dati.<br/><br/>\n",
    "    Nel nostro caso, elasticsearch ha il compito di conservare tutti i documenti JSON arricchiti e inviati da Spark, e inviarli a Kibana per visualizzarli.<br/><br/>\n",
    "    Inoltre tramite uno script Python, vengono fatte delle query per recuperare i riassunti dei messaggi inviati nel gruppo telegram in cui è presente il nostro bot e una volta ottenuti i dati questi vengono inviati dal bot nel gruppo.\n",
    "    </p>\n",
    "    <img src=\"images/message_summary.jpeg\" width=\"30%\" height=\"10%\" style=\"margin-left: auto;\"></img>\n",
    "</div>"
   ]
  },
  {
   "cell_type": "markdown",
   "metadata": {
    "slideshow": {
     "slide_type": "slide"
    }
   },
   "source": [
    "<div style=\"display: flex; justify-content: space-between; align-items: center;\">\n",
    "    <h2>Data visualization: Kibana</h2>\n",
    "    <img src=\"images/kibana-logo.png\" width=\"10%\" height=\"10%\" style=\"margin-left: auto;\"></img>\n",
    "</div>"
   ]
  },
  {
   "cell_type": "markdown",
   "metadata": {
    "slideshow": {
     "slide_type": "fragment"
    }
   },
   "source": [
    "Kibana è un software di data visualization utilizzato per visualizzare ed analizzare i dati di Elasticsearch grazie a delle dashboard."
   ]
  },
  {
   "cell_type": "markdown",
   "metadata": {
    "slideshow": {
     "slide_type": "fragment"
    }
   },
   "source": [
    "![](images/dashboard-kibana.png)"
   ]
  },
  {
   "cell_type": "markdown",
   "metadata": {
    "slideshow": {
     "slide_type": "subslide"
    }
   },
   "source": [
    "![](images/summary-table-kibana.png)"
   ]
  },
  {
   "cell_type": "markdown",
   "metadata": {
    "slideshow": {
     "slide_type": "slide"
    }
   },
   "source": [
    "## Sviluppi futuri"
   ]
  },
  {
   "cell_type": "markdown",
   "metadata": {
    "slideshow": {
     "slide_type": "fragment"
    }
   },
   "source": [
    "- Supporto multilingua: estendere la capacità dell'applicazione di riconoscere e tradurre testi in qualsiasi lingua (al momento vengono riconosciuti solo testi in lingua inglese) "
   ]
  },
  {
   "cell_type": "markdown",
   "metadata": {
    "slideshow": {
     "slide_type": "fragment"
    }
   },
   "source": [
    "- Migrare a modelli di linguaggio più avanzati per ottenere riassunti più accurati e dettagliati (ad esempio GPT o BART)."
   ]
  },
  {
   "cell_type": "markdown",
   "metadata": {
    "slideshow": {
     "slide_type": "fragment"
    }
   },
   "source": [
    "- Implementare una funzionalità per classificare i messaggi e i riassunti in base a temi o argomenti, facilitando così la ricerca e la consultazione di discussioni specifiche all'interno di grandi volumi di dati."
   ]
  }
 ],
 "metadata": {
  "kernelspec": {
   "display_name": "Python 3",
   "language": "python",
   "name": "python3"
  },
  "language_info": {
   "codemirror_mode": {
    "name": "ipython",
    "version": 3
   },
   "file_extension": ".py",
   "mimetype": "text/x-python",
   "name": "python",
   "nbconvert_exporter": "python",
   "pygments_lexer": "ipython3",
   "version": "3.10.9"
  }
 },
 "nbformat": 4,
 "nbformat_minor": 2
}
